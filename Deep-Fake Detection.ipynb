{
  "cells": [
    {
      "cell_type": "markdown",
      "metadata": {
        "id": "k2obALwSxbVe"
      },
      "source": [
        "LOADING the data"
      ]
    },
    {
      "cell_type": "code",
      "execution_count": null,
      "metadata": {
        "colab": {
          "base_uri": "https://localhost:8080/"
        },
        "id": "-O4-g-yzxakP",
        "outputId": "3a9a5833-b3e1-4984-b0b4-487c6a16cf32"
      },
      "outputs": [],
      "source": [
        "\n",
        "import numpy as np # linear algebra\n",
        "import pandas as pd # data processing, CSV file I/O (e.g. pd.read_csv)\n",
        "\n",
        "# Input data files are available in the read-only \"../input/\" directory\n",
        "# For example, running this (by clicking run or pressing Shift+Enter) will list all files under the input directory\n",
        "youtube_fake_fol = r\"kaggle2/deep-fake-dataset/Celeb-Youtube-fake\"\n",
        "youtube_fake = []\n",
        "youtube_real_fol = r\"kaggle2/deep-fake-dataset/YouTube-real\"\n",
        "youtube_real = []\n",
        "celeb_real_fol = r\"kaggle2/deep-fake-dataset/Celeb-real\"\n",
        "celeb_real = []\n",
        "test_fol = r\"kaggle2/deep-fake-dataset/test\"\n",
        "test = []\n",
        "import os\n",
        "for dirname, _, filenames in os.walk(youtube_fake_fol):\n",
        "    for filename in filenames:\n",
        "        youtube_fake.append(filename)\n",
        "for dirname, _, filenames in os.walk(youtube_real_fol):\n",
        "    for filename in filenames:\n",
        "        youtube_real.append(filename)\n",
        "for dirname, _, filenames in os.walk(celeb_real_fol):\n",
        "    for filename in filenames:\n",
        "        celeb_real.append(filename)\n",
        "for dirname, _, filenames in os.walk(test_fol):\n",
        "    for filename in filenames:\n",
        "        test.append(filename)\n"
      ]
    },
    {
      "cell_type": "code",
      "execution_count": 2,
      "metadata": {
        "id": "45l1t0idxaw1"
      },
      "outputs": [],
      "source": [
        "import os\n",
        "import tensorflow as tf"
      ]
    },
    {
      "cell_type": "code",
      "execution_count": 3,
      "metadata": {
        "colab": {
          "base_uri": "https://localhost:8080/"
        },
        "id": "ci8Kqo9qx2S4",
        "outputId": "dce71f35-1979-493c-d68c-d8b8ff346a93"
      },
      "outputs": [
        {
          "name": "stdout",
          "output_type": "stream",
          "text": [
            "5299\n",
            "230\n",
            "482\n",
            "518\n"
          ]
        }
      ],
      "source": [
        "print(len(youtube_fake))\n",
        "print(len(youtube_real))\n",
        "print(len(celeb_real))\n",
        "print(len(test))"
      ]
    },
    {
      "cell_type": "code",
      "execution_count": 4,
      "metadata": {
        "id": "FF4GZ0bxx4z5"
      },
      "outputs": [],
      "source": [
        "import cv2"
      ]
    },
    {
      "cell_type": "code",
      "execution_count": 5,
      "metadata": {
        "id": "YUX6WkIDybxZ"
      },
      "outputs": [],
      "source": [
        "x_train = []\n",
        "y_train = []"
      ]
    },
    {
      "cell_type": "code",
      "execution_count": 5,
      "metadata": {
        "id": "Ep9EurslOn7f"
      },
      "outputs": [],
      "source": []
    },
    {
      "cell_type": "code",
      "execution_count": null,
      "metadata": {
        "colab": {
          "base_uri": "https://localhost:8080/"
        },
        "id": "9355gkFaydZZ",
        "outputId": "9e644b18-db87-467e-bc99-3ae0f60fbd8b"
      },
      "outputs": [],
      "source": [
        "for i in range(1000):\n",
        "    cap = cv2.VideoCapture(f'{youtube_fake_fol}/{youtube_fake[i]}')\n",
        "    while(cap.isOpened()):\n",
        "        ret, frame = cap.read()\n",
        "        if ret == False:\n",
        "            break\n",
        "        frame = cv2.resize(frame,(840,500))\n",
        "        # Save Frame by Frame into disk using imwrite method\n",
        "        #frames_youtube_fake.append(frame)\n",
        "        # x_train = np.insert(x_train,len(x_train),frame,0)\n",
        "        # y_train = np.insert(y_train,len(y_train),0,0)\n",
        "        x_train.append(frame)\n",
        "        y_train.append([0])\n",
        "\n",
        "        break\n",
        "    cap.release()\n"
      ]
    },
    {
      "cell_type": "code",
      "execution_count": null,
      "metadata": {
        "colab": {
          "base_uri": "https://localhost:8080/"
        },
        "id": "EcqS7XGeyf6g",
        "outputId": "8ca37b67-ad39-4cba-98a3-f12d08bcb6f1"
      },
      "outputs": [],
      "source": [
        "for i in range(len(celeb_real)):\n",
        "    cap = cv2.VideoCapture(f'{celeb_real_fol}/{celeb_real[i]}')\n",
        "    while(cap.isOpened()):\n",
        "        ret, frame = cap.read()\n",
        "        if ret == False:\n",
        "            break\n",
        "        frame = cv2.resize(frame,(840,500))\n",
        "        # Save Frame by Frame into disk using imwrite method\n",
        "        #frames_celeb_real.append(frame)\n",
        "        x_train.append(frame)\n",
        "        y_train.append([1])\n",
        "        # x_train = np.append(x_train,[frame])\n",
        "        # y_train = np.append(y_train,[1])\n",
        "        break\n",
        "    cap.release()\n"
      ]
    },
    {
      "cell_type": "code",
      "execution_count": null,
      "metadata": {
        "colab": {
          "base_uri": "https://localhost:8080/"
        },
        "id": "6_senIvyzqag",
        "outputId": "999ad440-c78a-4ecd-dc65-79796a0bdbb5"
      },
      "outputs": [],
      "source": [
        "for i in range(len(youtube_real)):\n",
        "    cap = cv2.VideoCapture(f'{youtube_real_fol}/{youtube_real[i]}')\n",
        "    while(cap.isOpened()):\n",
        "        ret, frame = cap.read()\n",
        "        if ret == False:\n",
        "            break\n",
        "        frame = cv2.resize(frame,(840,500))\n",
        "        # Save Frame by Frame into disk using imwrite method\n",
        "        #frames_youtube_real.append(frame)\n",
        "        x_train.append(frame)\n",
        "        y_train.append([1])\n",
        "        break\n",
        "    cap.release()\n"
      ]
    },
    {
      "cell_type": "code",
      "execution_count": null,
      "metadata": {
        "colab": {
          "base_uri": "https://localhost:8080/"
        },
        "id": "156WAZzTro6z",
        "outputId": "2b2ca28a-4f83-430f-84ed-cc434dd62bd1"
      },
      "outputs": [],
      "source": [
        "for i in range(1000,2000):\n",
        "    cap = cv2.VideoCapture(f'{youtube_fake_fol}/{youtube_fake[i]}')\n",
        "    while(cap.isOpened()):\n",
        "        ret, frame = cap.read()\n",
        "        if ret == False:\n",
        "            break\n",
        "        frame = cv2.resize(frame,(840,500))\n",
        "        # Save Frame by Frame into disk using imwrite method\n",
        "        #frames_youtube_fake.append(frame)\n",
        "        # x_train = np.insert(x_train,len(x_train),frame,0)\n",
        "        # y_train = np.insert(y_train,len(y_train),0,0)\n",
        "        x_train.append(frame)\n",
        "        y_train.append([0])\n",
        "\n",
        "        break\n",
        "    cap.release()\n"
      ]
    },
    {
      "cell_type": "code",
      "execution_count": 10,
      "metadata": {
        "id": "GQPYXY5Fz2yQ"
      },
      "outputs": [],
      "source": [
        "x_train = np.array(x_train)"
      ]
    },
    {
      "cell_type": "code",
      "execution_count": 11,
      "metadata": {
        "id": "PqJrHQzQ0QE3"
      },
      "outputs": [],
      "source": [
        "y_train = np.array(y_train)"
      ]
    },
    {
      "cell_type": "code",
      "execution_count": 12,
      "metadata": {
        "id": "BeZoHaIR0Rqv"
      },
      "outputs": [],
      "source": [
        "import os\n",
        "import numpy as np\n",
        "from keras.models import Sequential\n",
        "from keras.layers import Activation, Dropout, Flatten, Dense\n",
        "from keras.preprocessing.image import ImageDataGenerator\n",
        "from keras.layers import Convolution2D, MaxPooling2D, ZeroPadding2D\n",
        "from keras import optimizers\n",
        "from keras import applications\n",
        "from keras.models import Model\n",
        "#Using TensorFlow backend.\n",
        "\n",
        "# dimensions of our images.\n",
        "img_width, img_height = 150, 150\n",
        "\n",
        "train_data_dir = 'data/train'\n",
        "validation_data_dir = 'data/validation'\n",
        "from keras.models import Sequential\n",
        "# a simple stack of 3 convolution layers with a ReLU activation and followed by max-pooling layers.\n",
        "model = Sequential()\n",
        "model.add(Convolution2D(32, (3, 3), input_shape=(500, 840,3)))\n",
        "model.add(Activation('relu'))\n",
        "model.add(MaxPooling2D(pool_size=(2, 2)))\n",
        "\n",
        "model.add(Convolution2D(32, (3, 3)))\n",
        "model.add(Activation('relu'))\n",
        "model.add(MaxPooling2D(pool_size=(2, 2)))\n",
        "\n",
        "model.add(Convolution2D(64, (3, 3)))\n",
        "model.add(Activation('relu'))\n",
        "model.add(MaxPooling2D(pool_size=(2, 2)))\n",
        "\n",
        "model.add(Flatten())\n",
        "model.add(Dense(64))\n",
        "model.add(Activation('relu'))\n",
        "model.add(Dropout(0.5))\n",
        "model.add(Dense(1))\n",
        "model.add(Activation('sigmoid'))\n",
        "\n",
        "model.compile(loss='binary_crossentropy',\n",
        "              optimizer='rmsprop',\n",
        "              metrics=['accuracy'])"
      ]
    },
    {
      "cell_type": "code",
      "execution_count": 13,
      "metadata": {
        "colab": {
          "base_uri": "https://localhost:8080/"
        },
        "id": "Kp1PPdPi2cuf",
        "outputId": "500573d9-f2a4-4cc0-a5f7-bf7a68b91739"
      },
      "outputs": [
        {
          "name": "stdout",
          "output_type": "stream",
          "text": [
            "Epoch 1/5\n",
            "543/543 [==============================] - 85s 136ms/step - loss: 10.5283 - accuracy: 0.7179\n",
            "Epoch 2/5\n",
            "543/543 [==============================] - 73s 134ms/step - loss: 1.9285 - accuracy: 0.7404\n",
            "Epoch 3/5\n",
            "543/543 [==============================] - 73s 134ms/step - loss: 1.0998 - accuracy: 0.7459\n",
            "Epoch 4/5\n",
            "543/543 [==============================] - 73s 134ms/step - loss: 1.0299 - accuracy: 0.7415\n",
            "Epoch 5/5\n",
            "543/543 [==============================] - 73s 134ms/step - loss: 0.6534 - accuracy: 0.7471\n"
          ]
        },
        {
          "data": {
            "text/plain": [
              "<keras.callbacks.History at 0x7f6a0031d7d0>"
            ]
          },
          "execution_count": 13,
          "metadata": {},
          "output_type": "execute_result"
        }
      ],
      "source": [
        "model.fit(x_train,y_train,batch_size=5,epochs=5)"
      ]
    },
    {
      "cell_type": "code",
      "execution_count": 14,
      "metadata": {
        "id": "HCw4WCQdsKXf"
      },
      "outputs": [],
      "source": [
        "del x_train"
      ]
    },
    {
      "cell_type": "code",
      "execution_count": 15,
      "metadata": {
        "id": "fyIsCMossNoo"
      },
      "outputs": [],
      "source": [
        "del y_train"
      ]
    },
    {
      "cell_type": "code",
      "execution_count": 16,
      "metadata": {
        "id": "l-nlqRL6oQOC"
      },
      "outputs": [],
      "source": [
        "x_train = []\n",
        "y_train = []"
      ]
    },
    {
      "cell_type": "markdown",
      "metadata": {
        "id": "Z9W1KAQlsM0N"
      },
      "source": [
        "Training on the rest of the data"
      ]
    },
    {
      "cell_type": "code",
      "execution_count": null,
      "metadata": {
        "colab": {
          "base_uri": "https://localhost:8080/"
        },
        "id": "ns6KyHenoEMj",
        "outputId": "5b120274-2dc2-4c47-9dba-f8e985b5fae4"
      },
      "outputs": [],
      "source": [
        "for i in range(2000,3000):\n",
        "    cap = cv2.VideoCapture(f'{youtube_fake_fol}/{youtube_fake[i]}')\n",
        "    while(cap.isOpened()):\n",
        "        ret, frame = cap.read()\n",
        "        if ret == False:\n",
        "            break\n",
        "        frame = cv2.resize(frame,(840,500))\n",
        "        # Save Frame by Frame into disk using imwrite method\n",
        "        #frames_youtube_fake.append(frame)\n",
        "        # x_train = np.insert(x_train,len(x_train),frame,0)\n",
        "        # y_train = np.insert(y_train,len(y_train),0,0)\n",
        "        x_train.append(frame)\n",
        "        y_train.append([0])\n",
        "\n",
        "        break\n",
        "    cap.release()\n"
      ]
    },
    {
      "cell_type": "code",
      "execution_count": null,
      "metadata": {
        "colab": {
          "base_uri": "https://localhost:8080/"
        },
        "id": "WPNXhyj8oejh",
        "outputId": "ff6acc1d-fc52-4984-9448-0a75ffab1f9b"
      },
      "outputs": [],
      "source": [
        "for i in range(int(len(celeb_real)/4)):\n",
        "    cap = cv2.VideoCapture(f'{celeb_real_fol}/{celeb_real[i]}')\n",
        "    while(cap.isOpened()):\n",
        "        ret, frame = cap.read()\n",
        "        if ret == False:\n",
        "            break\n",
        "        frame = cv2.resize(frame,(840,500))\n",
        "        # Save Frame by Frame into disk using imwrite method\n",
        "        #frames_celeb_real.append(frame)\n",
        "        x_train.append(frame)\n",
        "        y_train.append([1])\n",
        "        # x_train = np.append(x_train,[frame])\n",
        "        # y_train = np.append(y_train,[1])\n",
        "        break\n",
        "    cap.release()\n"
      ]
    },
    {
      "cell_type": "code",
      "execution_count": null,
      "metadata": {
        "colab": {
          "base_uri": "https://localhost:8080/"
        },
        "id": "f6jZdvBkqIPg",
        "outputId": "72b7d61a-7f08-4654-879e-8ec004be8936"
      },
      "outputs": [],
      "source": [
        "for i in range(int(len(youtube_real)/3)):\n",
        "    cap = cv2.VideoCapture(f'{youtube_real_fol}/{youtube_real[i]}')\n",
        "    while(cap.isOpened()):\n",
        "        ret, frame = cap.read()\n",
        "        if ret == False:\n",
        "            break\n",
        "        frame = cv2.resize(frame,(840,500))\n",
        "        # Save Frame by Frame into disk using imwrite method\n",
        "        #frames_youtube_real.append(frame)\n",
        "        x_train.append(frame)\n",
        "        y_train.append([1])\n",
        "        break\n",
        "    cap.release()\n"
      ]
    },
    {
      "cell_type": "code",
      "execution_count": null,
      "metadata": {
        "colab": {
          "base_uri": "https://localhost:8080/"
        },
        "id": "yGWL6nyMqMyF",
        "outputId": "87d63b83-0dc9-41fc-a61f-026d785031d9"
      },
      "outputs": [],
      "source": [
        "for i in range(3000,4000):\n",
        "    cap = cv2.VideoCapture(f'{youtube_fake_fol}/{youtube_fake[i]}')\n",
        "    while(cap.isOpened()):\n",
        "        ret, frame = cap.read()\n",
        "        if ret == False:\n",
        "            break\n",
        "        frame = cv2.resize(frame,(840,500))\n",
        "        # Save Frame by Frame into disk using imwrite method\n",
        "        #frames_youtube_fake.append(frame)\n",
        "        # x_train = np.insert(x_train,len(x_train),frame,0)\n",
        "        # y_train = np.insert(y_train,len(y_train),0,0)\n",
        "        x_train.append(frame)\n",
        "        y_train.append([0])\n",
        "\n",
        "        break\n",
        "    cap.release()\n"
      ]
    },
    {
      "cell_type": "code",
      "execution_count": 22,
      "metadata": {
        "id": "-6e68TzkqRWx"
      },
      "outputs": [],
      "source": [
        "x_train = np.array(x_train)"
      ]
    },
    {
      "cell_type": "code",
      "execution_count": 23,
      "metadata": {
        "id": "N7wX8VZTqV08"
      },
      "outputs": [],
      "source": [
        "y_train = np.array(y_train)"
      ]
    },
    {
      "cell_type": "code",
      "execution_count": 24,
      "metadata": {
        "colab": {
          "base_uri": "https://localhost:8080/"
        },
        "id": "POxCTFd9t2pn",
        "outputId": "79ca96ce-80bc-411c-e17b-9cd4c15db42b"
      },
      "outputs": [
        {
          "name": "stdout",
          "output_type": "stream",
          "text": [
            "Epoch 1/5\n",
            "440/440 [==============================] - 59s 134ms/step - loss: 0.8926 - accuracy: 0.9194\n",
            "Epoch 2/5\n",
            "440/440 [==============================] - 58s 133ms/step - loss: 1.8488 - accuracy: 0.9176\n",
            "Epoch 3/5\n",
            "440/440 [==============================] - 58s 133ms/step - loss: 1.3242 - accuracy: 0.9126\n",
            "Epoch 4/5\n",
            "440/440 [==============================] - 58s 133ms/step - loss: 1.9568 - accuracy: 0.9158\n",
            "Epoch 5/5\n",
            "440/440 [==============================] - 59s 133ms/step - loss: 2.1254 - accuracy: 0.9153\n"
          ]
        },
        {
          "data": {
            "text/plain": [
              "<keras.callbacks.History at 0x7f6992f9b550>"
            ]
          },
          "execution_count": 24,
          "metadata": {},
          "output_type": "execute_result"
        }
      ],
      "source": [
        "model.fit(x_train,y_train,batch_size=5,epochs=5)"
      ]
    },
    {
      "cell_type": "markdown",
      "metadata": {
        "id": "kyLqPCcuYEHN"
      },
      "source": [
        "Testing it on the Test Dataset"
      ]
    },
    {
      "cell_type": "code",
      "execution_count": null,
      "metadata": {
        "colab": {
          "base_uri": "https://localhost:8080/"
        },
        "id": "itf39N_f2kjX",
        "outputId": "77c50676-2d32-46d0-e573-7417871d13e3"
      },
      "outputs": [],
      "source": [
        "test_set = []\n",
        "for i in range(len(test)):\n",
        "    cap = cv2.VideoCapture(f'{test_fol}/{test[i]}')\n",
        "    while(cap.isOpened()):\n",
        "        ret, frame = cap.read()\n",
        "        if ret == False:\n",
        "            break\n",
        "        frame = cv2.resize(frame,(840,500))\n",
        "        # Save Frame by Frame into disk using imwrite method\n",
        "        test_set.append(frame)\n",
        "\n",
        "        break\n",
        "    cap.release()\n"
      ]
    },
    {
      "cell_type": "code",
      "execution_count": 26,
      "metadata": {
        "id": "JaIs18zVYKZ9"
      },
      "outputs": [],
      "source": [
        "test_set = np.array(test_set)"
      ]
    },
    {
      "cell_type": "code",
      "execution_count": 27,
      "metadata": {
        "id": "S36GFEN5YPwR"
      },
      "outputs": [],
      "source": [
        "A = model.predict(test_set)"
      ]
    },
    {
      "cell_type": "code",
      "execution_count": 35,
      "metadata": {
        "id": "noo2Ji-kYQ9Y"
      },
      "outputs": [],
      "source": [
        "B = np.where(A >0.15 , 1, 0)"
      ]
    },
    {
      "cell_type": "code",
      "execution_count": 36,
      "metadata": {
        "colab": {
          "base_uri": "https://localhost:8080/"
        },
        "id": "Mg0gIHZVYT-X",
        "outputId": "32527e66-66f6-44d6-c90e-cf2d138a1619"
      },
      "outputs": [
        {
          "data": {
            "text/plain": [
              "array([[1],\n",
              "       [0],\n",
              "       [0],\n",
              "       [1],\n",
              "       [1],\n",
              "       [0],\n",
              "       [0],\n",
              "       [1],\n",
              "       [0],\n",
              "       [0],\n",
              "       [0],\n",
              "       [1],\n",
              "       [1],\n",
              "       [0],\n",
              "       [1],\n",
              "       [0],\n",
              "       [0],\n",
              "       [0],\n",
              "       [0],\n",
              "       [1],\n",
              "       [0],\n",
              "       [0],\n",
              "       [0],\n",
              "       [0],\n",
              "       [0],\n",
              "       [0],\n",
              "       [0],\n",
              "       [0],\n",
              "       [1],\n",
              "       [0],\n",
              "       [1],\n",
              "       [0],\n",
              "       [0],\n",
              "       [0],\n",
              "       [0],\n",
              "       [1],\n",
              "       [0],\n",
              "       [0],\n",
              "       [0],\n",
              "       [1],\n",
              "       [0],\n",
              "       [0],\n",
              "       [0],\n",
              "       [0],\n",
              "       [0],\n",
              "       [0],\n",
              "       [1],\n",
              "       [0],\n",
              "       [0],\n",
              "       [0],\n",
              "       [0],\n",
              "       [0],\n",
              "       [0],\n",
              "       [1],\n",
              "       [0],\n",
              "       [1],\n",
              "       [1],\n",
              "       [0],\n",
              "       [1],\n",
              "       [0],\n",
              "       [0],\n",
              "       [1],\n",
              "       [0],\n",
              "       [0],\n",
              "       [0],\n",
              "       [0],\n",
              "       [1],\n",
              "       [0],\n",
              "       [1],\n",
              "       [0],\n",
              "       [0],\n",
              "       [1],\n",
              "       [1],\n",
              "       [1],\n",
              "       [1],\n",
              "       [0],\n",
              "       [0],\n",
              "       [0],\n",
              "       [0],\n",
              "       [0],\n",
              "       [0],\n",
              "       [1],\n",
              "       [0],\n",
              "       [0],\n",
              "       [0],\n",
              "       [0],\n",
              "       [0],\n",
              "       [0],\n",
              "       [0],\n",
              "       [0],\n",
              "       [0],\n",
              "       [0],\n",
              "       [0],\n",
              "       [0],\n",
              "       [0],\n",
              "       [0],\n",
              "       [1],\n",
              "       [0],\n",
              "       [0],\n",
              "       [0],\n",
              "       [0],\n",
              "       [0],\n",
              "       [0],\n",
              "       [0],\n",
              "       [1],\n",
              "       [0],\n",
              "       [0],\n",
              "       [1],\n",
              "       [0],\n",
              "       [0],\n",
              "       [0],\n",
              "       [0],\n",
              "       [0],\n",
              "       [0],\n",
              "       [1],\n",
              "       [0],\n",
              "       [1],\n",
              "       [0],\n",
              "       [0],\n",
              "       [0],\n",
              "       [1],\n",
              "       [0],\n",
              "       [0],\n",
              "       [0],\n",
              "       [1],\n",
              "       [0],\n",
              "       [0],\n",
              "       [0],\n",
              "       [0],\n",
              "       [0],\n",
              "       [0],\n",
              "       [1],\n",
              "       [0],\n",
              "       [1],\n",
              "       [0],\n",
              "       [0],\n",
              "       [0],\n",
              "       [0],\n",
              "       [1],\n",
              "       [0],\n",
              "       [0],\n",
              "       [0],\n",
              "       [1],\n",
              "       [0],\n",
              "       [1],\n",
              "       [0],\n",
              "       [0],\n",
              "       [0],\n",
              "       [0],\n",
              "       [0],\n",
              "       [0],\n",
              "       [0],\n",
              "       [1],\n",
              "       [0],\n",
              "       [0],\n",
              "       [1],\n",
              "       [0],\n",
              "       [1],\n",
              "       [1],\n",
              "       [0],\n",
              "       [0],\n",
              "       [0],\n",
              "       [0],\n",
              "       [0],\n",
              "       [0],\n",
              "       [0],\n",
              "       [0],\n",
              "       [0],\n",
              "       [0],\n",
              "       [1],\n",
              "       [1],\n",
              "       [0],\n",
              "       [0],\n",
              "       [1],\n",
              "       [0],\n",
              "       [0],\n",
              "       [1],\n",
              "       [0],\n",
              "       [0],\n",
              "       [1],\n",
              "       [0],\n",
              "       [0],\n",
              "       [0],\n",
              "       [0],\n",
              "       [0],\n",
              "       [0],\n",
              "       [0],\n",
              "       [0],\n",
              "       [0],\n",
              "       [0],\n",
              "       [0],\n",
              "       [0],\n",
              "       [0],\n",
              "       [0],\n",
              "       [1],\n",
              "       [0],\n",
              "       [1],\n",
              "       [0],\n",
              "       [1],\n",
              "       [0],\n",
              "       [1],\n",
              "       [0],\n",
              "       [0],\n",
              "       [0],\n",
              "       [0],\n",
              "       [0],\n",
              "       [0],\n",
              "       [1],\n",
              "       [0],\n",
              "       [0],\n",
              "       [1],\n",
              "       [0],\n",
              "       [0],\n",
              "       [0],\n",
              "       [0],\n",
              "       [0],\n",
              "       [1],\n",
              "       [0],\n",
              "       [0],\n",
              "       [1],\n",
              "       [0],\n",
              "       [1],\n",
              "       [0],\n",
              "       [1],\n",
              "       [0],\n",
              "       [0],\n",
              "       [0],\n",
              "       [1],\n",
              "       [0],\n",
              "       [1],\n",
              "       [0],\n",
              "       [0],\n",
              "       [0],\n",
              "       [0],\n",
              "       [1],\n",
              "       [0],\n",
              "       [0],\n",
              "       [0],\n",
              "       [0],\n",
              "       [0],\n",
              "       [0],\n",
              "       [0],\n",
              "       [1],\n",
              "       [1],\n",
              "       [1],\n",
              "       [0],\n",
              "       [0],\n",
              "       [0],\n",
              "       [0],\n",
              "       [0],\n",
              "       [0],\n",
              "       [0],\n",
              "       [0],\n",
              "       [0],\n",
              "       [0],\n",
              "       [0],\n",
              "       [0],\n",
              "       [0],\n",
              "       [0],\n",
              "       [1],\n",
              "       [0],\n",
              "       [1],\n",
              "       [0],\n",
              "       [0],\n",
              "       [0],\n",
              "       [0],\n",
              "       [0],\n",
              "       [0],\n",
              "       [0],\n",
              "       [1],\n",
              "       [0],\n",
              "       [1],\n",
              "       [0],\n",
              "       [1],\n",
              "       [1],\n",
              "       [0],\n",
              "       [0],\n",
              "       [0],\n",
              "       [0],\n",
              "       [0],\n",
              "       [0],\n",
              "       [0],\n",
              "       [0],\n",
              "       [1],\n",
              "       [0],\n",
              "       [0],\n",
              "       [0],\n",
              "       [0],\n",
              "       [0],\n",
              "       [1],\n",
              "       [0],\n",
              "       [1],\n",
              "       [0],\n",
              "       [1],\n",
              "       [0],\n",
              "       [0],\n",
              "       [0],\n",
              "       [1],\n",
              "       [1],\n",
              "       [0],\n",
              "       [0],\n",
              "       [0],\n",
              "       [0],\n",
              "       [0],\n",
              "       [0],\n",
              "       [1],\n",
              "       [0],\n",
              "       [0],\n",
              "       [0],\n",
              "       [0],\n",
              "       [1],\n",
              "       [0],\n",
              "       [0],\n",
              "       [0],\n",
              "       [0],\n",
              "       [0],\n",
              "       [0],\n",
              "       [0],\n",
              "       [0],\n",
              "       [0],\n",
              "       [0],\n",
              "       [0],\n",
              "       [1],\n",
              "       [0],\n",
              "       [0],\n",
              "       [1],\n",
              "       [0],\n",
              "       [0],\n",
              "       [1],\n",
              "       [1],\n",
              "       [0],\n",
              "       [1],\n",
              "       [0],\n",
              "       [0],\n",
              "       [0],\n",
              "       [0],\n",
              "       [0],\n",
              "       [0],\n",
              "       [1],\n",
              "       [0],\n",
              "       [0],\n",
              "       [0],\n",
              "       [1],\n",
              "       [0],\n",
              "       [0],\n",
              "       [0],\n",
              "       [0],\n",
              "       [0],\n",
              "       [0],\n",
              "       [1],\n",
              "       [0],\n",
              "       [0],\n",
              "       [0],\n",
              "       [0],\n",
              "       [0],\n",
              "       [1],\n",
              "       [0],\n",
              "       [1],\n",
              "       [0],\n",
              "       [0],\n",
              "       [0],\n",
              "       [0],\n",
              "       [0],\n",
              "       [0],\n",
              "       [1],\n",
              "       [0],\n",
              "       [0],\n",
              "       [0],\n",
              "       [0],\n",
              "       [0],\n",
              "       [0],\n",
              "       [0],\n",
              "       [0],\n",
              "       [0],\n",
              "       [0],\n",
              "       [0],\n",
              "       [0],\n",
              "       [0],\n",
              "       [1],\n",
              "       [0],\n",
              "       [0],\n",
              "       [0],\n",
              "       [1],\n",
              "       [0],\n",
              "       [0],\n",
              "       [1],\n",
              "       [1],\n",
              "       [0],\n",
              "       [1],\n",
              "       [1],\n",
              "       [0],\n",
              "       [0],\n",
              "       [0],\n",
              "       [0],\n",
              "       [0],\n",
              "       [0],\n",
              "       [0],\n",
              "       [1],\n",
              "       [0],\n",
              "       [0],\n",
              "       [0],\n",
              "       [1],\n",
              "       [0],\n",
              "       [0],\n",
              "       [0],\n",
              "       [0],\n",
              "       [0],\n",
              "       [0],\n",
              "       [0],\n",
              "       [0],\n",
              "       [0],\n",
              "       [0],\n",
              "       [0],\n",
              "       [0],\n",
              "       [0],\n",
              "       [0],\n",
              "       [1],\n",
              "       [0],\n",
              "       [0],\n",
              "       [1],\n",
              "       [1],\n",
              "       [1],\n",
              "       [0],\n",
              "       [0],\n",
              "       [0],\n",
              "       [1],\n",
              "       [0],\n",
              "       [0],\n",
              "       [0],\n",
              "       [1],\n",
              "       [1],\n",
              "       [1],\n",
              "       [1],\n",
              "       [0],\n",
              "       [0],\n",
              "       [0],\n",
              "       [1],\n",
              "       [1],\n",
              "       [0],\n",
              "       [0],\n",
              "       [1],\n",
              "       [1],\n",
              "       [0],\n",
              "       [0],\n",
              "       [0],\n",
              "       [1],\n",
              "       [0],\n",
              "       [0],\n",
              "       [1],\n",
              "       [1],\n",
              "       [1],\n",
              "       [0],\n",
              "       [1],\n",
              "       [0],\n",
              "       [1],\n",
              "       [0],\n",
              "       [0],\n",
              "       [0],\n",
              "       [0],\n",
              "       [0],\n",
              "       [0],\n",
              "       [1],\n",
              "       [0],\n",
              "       [0],\n",
              "       [0],\n",
              "       [0],\n",
              "       [1],\n",
              "       [1],\n",
              "       [0],\n",
              "       [1],\n",
              "       [0],\n",
              "       [1],\n",
              "       [0],\n",
              "       [0],\n",
              "       [1],\n",
              "       [1],\n",
              "       [0],\n",
              "       [0],\n",
              "       [0],\n",
              "       [0],\n",
              "       [0],\n",
              "       [0],\n",
              "       [0],\n",
              "       [0],\n",
              "       [1],\n",
              "       [0],\n",
              "       [1],\n",
              "       [0],\n",
              "       [0],\n",
              "       [0],\n",
              "       [0],\n",
              "       [1],\n",
              "       [0],\n",
              "       [1],\n",
              "       [1],\n",
              "       [1],\n",
              "       [0],\n",
              "       [0],\n",
              "       [1],\n",
              "       [0],\n",
              "       [0],\n",
              "       [0],\n",
              "       [1],\n",
              "       [1],\n",
              "       [0],\n",
              "       [0],\n",
              "       [1],\n",
              "       [1],\n",
              "       [0],\n",
              "       [1],\n",
              "       [1],\n",
              "       [0],\n",
              "       [0],\n",
              "       [1],\n",
              "       [0],\n",
              "       [0],\n",
              "       [0],\n",
              "       [0]])"
            ]
          },
          "execution_count": 36,
          "metadata": {},
          "output_type": "execute_result"
        }
      ],
      "source": [
        "B"
      ]
    },
    {
      "cell_type": "markdown",
      "metadata": {},
      "source": []
    },
    {
      "cell_type": "code",
      "execution_count": null,
      "metadata": {
        "id": "m8L1YMWKY5qx"
      },
      "outputs": [],
      "source": []
    }
  ],
  "metadata": {
    "accelerator": "GPU",
    "colab": {
      "name": "Untitled1.ipynb",
      "provenance": []
    },
    "kernelspec": {
      "display_name": "Python 3",
      "name": "python3"
    },
    "language_info": {
      "name": "python"
    }
  },
  "nbformat": 4,
  "nbformat_minor": 0
}
