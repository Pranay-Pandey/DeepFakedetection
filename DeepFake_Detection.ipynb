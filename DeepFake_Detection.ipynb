{
  "cells": [
    {
      "cell_type": "markdown",
      "metadata": {
        "id": "X9UHk8TYwMeo"
      },
      "source": [
        "The DATASET is available at https://www.kaggle.com/c/deepfake-detection/data"
      ]
    },
    {
      "cell_type": "markdown",
      "metadata": {
        "id": "k2obALwSxbVe"
      },
      "source": [
        "LOADING the data"
      ]
    },
    {
      "cell_type": "code",
      "execution_count": 12,
      "metadata": {
        "colab": {
          "base_uri": "https://localhost:8080/"
        },
        "id": "-O4-g-yzxakP",
        "outputId": "22fa4cd4-73b6-45d0-8837-9718154d368e"
      },
      "outputs": [
        {
          "name": "stdout",
          "output_type": "stream",
          "text": [
            "HERE\n"
          ]
        }
      ],
      "source": [
        "\n",
        "import numpy as np # linear algebra\n",
        "import pandas as pd # data processing, CSV file I/O (e.g. pd.read_csv)\n",
        "\n",
        "# Input data files are available in the read-only \"../input/\" directory\n",
        "# For example, running this (by clicking run or pressing Shift+Enter) will list all files under the input directory\n",
        "youtube_fake_fol = r\"/deep-fake-dataset/Celeb-Youtube-fake\"\n",
        "youtube_fake = []\n",
        "youtube_real_fol = r\"/deep-fake-dataset/YouTube-real\"\n",
        "youtube_real = []\n",
        "celeb_real_fol = r\"/deep-fake-dataset/Celeb-real\"\n",
        "celeb_real = []\n",
        "test_fol = r\"/deep-fake-dataset/test\"\n",
        "test = []\n",
        "import os\n",
        "for dirname, _, filenames in os.walk(youtube_fake_fol):\n",
        "    for filename in filenames:\n",
        "        youtube_fake.append(filename)\n",
        "for dirname, _, filenames in os.walk(youtube_real_fol):\n",
        "    for filename in filenames:\n",
        "        youtube_real.append(filename)\n",
        "for dirname, _, filenames in os.walk(celeb_real_fol):\n",
        "    for filename in filenames:\n",
        "        celeb_real.append(filename)\n",
        "for dirname, _, filenames in os.walk(test_fol):\n",
        "    for filename in filenames:\n",
        "        test.append(filename)\n",
        "print(\"HERE\")"
      ]
    },
    {
      "cell_type": "code",
      "execution_count": 13,
      "metadata": {
        "id": "45l1t0idxaw1"
      },
      "outputs": [],
      "source": [
        "import os\n",
        "import tensorflow as tf"
      ]
    },
    {
      "cell_type": "code",
      "execution_count": 14,
      "metadata": {
        "colab": {
          "base_uri": "https://localhost:8080/"
        },
        "id": "ci8Kqo9qx2S4",
        "outputId": "1dfc668c-2fbf-4455-eb96-e47d35aa702b"
      },
      "outputs": [
        {
          "name": "stdout",
          "output_type": "stream",
          "text": [
            "5299\n",
            "230\n",
            "482\n",
            "518\n"
          ]
        }
      ],
      "source": [
        "print(len(youtube_fake))\n",
        "print(len(youtube_real))\n",
        "print(len(celeb_real))\n",
        "print(len(test))"
      ]
    },
    {
      "cell_type": "code",
      "execution_count": 15,
      "metadata": {
        "id": "FF4GZ0bxx4z5"
      },
      "outputs": [],
      "source": [
        "import cv2"
      ]
    },
    {
      "cell_type": "code",
      "execution_count": 16,
      "metadata": {
        "id": "YUX6WkIDybxZ"
      },
      "outputs": [],
      "source": [
        "x_train = []\n",
        "y_train = []"
      ]
    },
    {
      "cell_type": "code",
      "execution_count": null,
      "metadata": {
        "colab": {
          "base_uri": "https://localhost:8080/"
        },
        "id": "9355gkFaydZZ",
        "outputId": "c344cf35-330a-41fd-ae95-c744bce7613c"
      },
      "outputs": [],
      "source": [
        "for i in range(2000):\n",
        "    cap = cv2.VideoCapture(f'{youtube_fake_fol}/{youtube_fake[i]}')\n",
        "    while(cap.isOpened()):\n",
        "        ret, frame = cap.read()\n",
        "        if ret == False:\n",
        "            break\n",
        "        frame = cv2.resize(frame,(840,500))\n",
        "        # Selecting the first frame of every video and adding it to the training data\n",
        "        x_train.append(frame)\n",
        "        y_train.append([0])\n",
        "\n",
        "        break\n",
        "    cap.release()"
      ]
    },
    {
      "cell_type": "code",
      "execution_count": null,
      "metadata": {
        "colab": {
          "base_uri": "https://localhost:8080/"
        },
        "id": "EcqS7XGeyf6g",
        "outputId": "8e217672-47ce-4632-fe97-1788eb25db8b"
      },
      "outputs": [],
      "source": [
        "for i in range(len(celeb_real)):\n",
        "    cap = cv2.VideoCapture(f'{celeb_real_fol}/{celeb_real[i]}')\n",
        "    while(cap.isOpened()):\n",
        "        ret, frame = cap.read()\n",
        "        if ret == False:\n",
        "            break\n",
        "        frame = cv2.resize(frame,(840,500))\n",
        "        x_train.append(frame)\n",
        "        y_train.append([1])\n",
        "        break\n",
        "    cap.release()"
      ]
    },
    {
      "cell_type": "code",
      "execution_count": null,
      "metadata": {
        "colab": {
          "base_uri": "https://localhost:8080/"
        },
        "id": "6_senIvyzqag",
        "outputId": "8349795c-9955-4661-faf2-b7fe48e1573c"
      },
      "outputs": [],
      "source": [
        "for i in range(len(youtube_real)):\n",
        "    cap = cv2.VideoCapture(f'{youtube_real_fol}/{youtube_real[i]}')\n",
        "    while(cap.isOpened()):\n",
        "        ret, frame = cap.read()\n",
        "        if ret == False:\n",
        "            break\n",
        "        frame = cv2.resize(frame,(840,500))\n",
        "        # Save Frame by Frame into disk using imwrite method\n",
        "        #frames_youtube_real.append(frame)\n",
        "        x_train.append(frame)\n",
        "        y_train.append([1])\n",
        "        break\n",
        "    cap.release()\n"
      ]
    },
    {
      "cell_type": "code",
      "execution_count": 20,
      "metadata": {
        "id": "GQPYXY5Fz2yQ"
      },
      "outputs": [],
      "source": [
        "x_train = np.array(x_train)"
      ]
    },
    {
      "cell_type": "code",
      "execution_count": 21,
      "metadata": {
        "id": "PqJrHQzQ0QE3"
      },
      "outputs": [],
      "source": [
        "y_train = np.array(y_train)"
      ]
    },
    {
      "cell_type": "code",
      "execution_count": 22,
      "metadata": {
        "id": "BeZoHaIR0Rqv"
      },
      "outputs": [],
      "source": [
        "import os\n",
        "import numpy as np\n",
        "from keras.models import Sequential\n",
        "from keras.layers import Activation, Dropout, Flatten, Dense\n",
        "from keras.preprocessing.image import ImageDataGenerator\n",
        "from keras.layers import Convolution2D, MaxPooling2D, ZeroPadding2D\n",
        "from keras import optimizers\n",
        "from keras import applications\n",
        "from keras.models import Model\n",
        "#Using TensorFlow backend.\n",
        "\n",
        "# dimensions of our images.\n",
        "img_width, img_height = 150, 150\n",
        "\n",
        "train_data_dir = 'data/train'\n",
        "validation_data_dir = 'data/validation'\n",
        "from keras.models import Sequential\n",
        "# a simple stack of 3 convolution layers with a ReLU activation and followed by max-pooling layers.\n",
        "model = Sequential()\n",
        "model.add(Convolution2D(32, (3, 3), input_shape=(500, 840,3)))\n",
        "model.add(Activation('relu'))\n",
        "model.add(MaxPooling2D(pool_size=(2, 2)))\n",
        "\n",
        "model.add(Convolution2D(32, (3, 3)))\n",
        "model.add(Activation('relu'))\n",
        "model.add(MaxPooling2D(pool_size=(2, 2)))\n",
        "\n",
        "model.add(Convolution2D(64, (3, 3)))\n",
        "model.add(Activation('relu'))\n",
        "model.add(MaxPooling2D(pool_size=(2, 2)))\n",
        "\n",
        "model.add(Flatten())\n",
        "model.add(Dense(64))\n",
        "model.add(Activation('relu'))\n",
        "model.add(Dropout(0.5))\n",
        "model.add(Dense(1))\n",
        "model.add(Activation('sigmoid'))\n",
        "\n",
        "model.compile(loss='binary_crossentropy',\n",
        "              optimizer='rmsprop',\n",
        "              metrics=['accuracy'])"
      ]
    },
    {
      "cell_type": "code",
      "execution_count": 23,
      "metadata": {
        "colab": {
          "base_uri": "https://localhost:8080/"
        },
        "id": "Kp1PPdPi2cuf",
        "outputId": "a0fc5f93-9795-485d-a125-d8c79dd41445"
      },
      "outputs": [
        {
          "name": "stdout",
          "output_type": "stream",
          "text": [
            "Epoch 1/5\n",
            "543/543 [==============================] - 88s 138ms/step - loss: 8.6236 - accuracy: 0.7227\n",
            "Epoch 2/5\n",
            "543/543 [==============================] - 74s 136ms/step - loss: 1.5093 - accuracy: 0.7434\n",
            "Epoch 3/5\n",
            "543/543 [==============================] - 74s 136ms/step - loss: 0.8521 - accuracy: 0.7459\n",
            "Epoch 4/5\n",
            "543/543 [==============================] - 74s 136ms/step - loss: 1.3542 - accuracy: 0.7478\n",
            "Epoch 5/5\n",
            "543/543 [==============================] - 74s 136ms/step - loss: 1.0481 - accuracy: 0.7434\n"
          ]
        },
        {
          "data": {
            "text/plain": [
              "<keras.callbacks.History at 0x7f3442785e50>"
            ]
          },
          "execution_count": 23,
          "metadata": {},
          "output_type": "execute_result"
        }
      ],
      "source": [
        "model.fit(x_train,y_train,batch_size=5,epochs=5)"
      ]
    },
    {
      "cell_type": "code",
      "execution_count": null,
      "metadata": {
        "id": "itf39N_f2kjX"
      },
      "outputs": [],
      "source": []
    }
  ],
  "metadata": {
    "accelerator": "GPU",
    "colab": {
      "name": "Untitled1.ipynb",
      "provenance": []
    },
    "kernelspec": {
      "display_name": "Python 3",
      "name": "python3"
    },
    "language_info": {
      "name": "python"
    }
  },
  "nbformat": 4,
  "nbformat_minor": 0
}
